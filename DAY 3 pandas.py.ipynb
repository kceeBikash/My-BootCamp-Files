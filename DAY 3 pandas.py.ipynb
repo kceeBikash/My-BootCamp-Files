{
 "cells": [
  {
   "cell_type": "code",
   "execution_count": 1,
   "id": "ce866574",
   "metadata": {},
   "outputs": [],
   "source": [
    "import numpy as np"
   ]
  },
  {
   "cell_type": "code",
   "execution_count": 2,
   "id": "e7c749db",
   "metadata": {},
   "outputs": [],
   "source": [
    "import pandas as pd"
   ]
  },
  {
   "cell_type": "code",
   "execution_count": 3,
   "id": "3290ee40",
   "metadata": {},
   "outputs": [],
   "source": [
    "myvar=np.array([[1,2,3],[3,2,1],[4,5,6],[6,5,4],[7,8,9],[9,8,7]])"
   ]
  },
  {
   "cell_type": "code",
   "execution_count": 4,
   "id": "92dfd2b1",
   "metadata": {},
   "outputs": [],
   "source": [
    "data=pd.DataFrame(myvar)"
   ]
  },
  {
   "cell_type": "code",
   "execution_count": 5,
   "id": "f7485add",
   "metadata": {},
   "outputs": [],
   "source": [
    "data.to_csv('pd.csv')"
   ]
  },
  {
   "cell_type": "code",
   "execution_count": 6,
   "id": "6a2a5ea0",
   "metadata": {},
   "outputs": [
    {
     "name": "stdout",
     "output_type": "stream",
     "text": [
      "   0  1  2\n",
      "0  1  2  3\n",
      "1  3  2  1\n",
      "2  4  5  6\n",
      "3  6  5  4\n",
      "4  7  8  9\n",
      "5  9  8  7\n"
     ]
    }
   ],
   "source": [
    "print(data)"
   ]
  },
  {
   "cell_type": "code",
   "execution_count": null,
   "id": "2b640892",
   "metadata": {},
   "outputs": [],
   "source": []
  }
 ],
 "metadata": {
  "kernelspec": {
   "display_name": "Python 3 (ipykernel)",
   "language": "python",
   "name": "python3"
  },
  "language_info": {
   "codemirror_mode": {
    "name": "ipython",
    "version": 3
   },
   "file_extension": ".py",
   "mimetype": "text/x-python",
   "name": "python",
   "nbconvert_exporter": "python",
   "pygments_lexer": "ipython3",
   "version": "3.11.5"
  }
 },
 "nbformat": 4,
 "nbformat_minor": 5
}
