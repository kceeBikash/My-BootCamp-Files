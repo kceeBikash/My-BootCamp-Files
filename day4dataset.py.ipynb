{
 "cells": [
  {
   "cell_type": "code",
   "execution_count": 1,
   "id": "49c8bb7b",
   "metadata": {},
   "outputs": [],
   "source": [
    "import numpy as np"
   ]
  },
  {
   "cell_type": "code",
   "execution_count": 2,
   "id": "411962fd",
   "metadata": {},
   "outputs": [],
   "source": [
    "import pandas as pd"
   ]
  },
  {
   "cell_type": "code",
   "execution_count": 3,
   "id": "801ebc7d",
   "metadata": {},
   "outputs": [
    {
     "name": "stdout",
     "output_type": "stream",
     "text": [
      "            Date                  Name     Nationality  \\\n",
      "0     2023-07-27       Muhammad Hassan        Pakistan   \n",
      "1     2022-07-22         Matthew Eakin       Australia   \n",
      "2     2022-07-22       Richard Cartier          Canada   \n",
      "3     2022-07-21       Ali Akbar Sakhi     Afghanistan   \n",
      "4     2021-07-25            Rick Allen  United Kingdom   \n",
      "...          ...                   ...             ...   \n",
      "1073  2023-05-21       Ang Kami Sherpa           Nepal   \n",
      "1074  2023-05-25  Szilárd Suhajda [hu]         Hungary   \n",
      "1075  2023-05-25     Ranjit Kumar Shah           Nepal   \n",
      "1076  2023-05-26          Pieter Swart          Canada   \n",
      "1077  2023-06-03    Lhakpa Nuru Sherpa           Nepal   \n",
      "\n",
      "                                         Cause of death       Mountain  \n",
      "0                                               Unknown             K2  \n",
      "1                                                  Fall             K2  \n",
      "2                                                  Fall             K2  \n",
      "3                  Unknown, suspected altitude sickness             K2  \n",
      "4                                             Avalanche             K2  \n",
      "...                                                 ...            ...  \n",
      "1073                                               Fall  Mount Everest  \n",
      "1074        Disappeared (reportedly suffered from HACE)  Mount Everest  \n",
      "1075                                        Disappeared  Mount Everest  \n",
      "1076                                  Respiratory Event  Mount Everest  \n",
      "1077  Suffered from HAPE, later died in hospital due...  Mount Everest  \n",
      "\n",
      "[1078 rows x 5 columns]\n"
     ]
    }
   ],
   "source": [
    "data=pd.read_csv('deaths_on_eight-thousanders.csv')\n",
    "print(data)\n"
   ]
  },
  {
   "cell_type": "code",
   "execution_count": 4,
   "id": "e144db88",
   "metadata": {},
   "outputs": [
    {
     "name": "stdout",
     "output_type": "stream",
     "text": [
      "         Date             Name     Nationality  \\\n",
      "0  2023-07-27  Muhammad Hassan        Pakistan   \n",
      "1  2022-07-22    Matthew Eakin       Australia   \n",
      "2  2022-07-22  Richard Cartier          Canada   \n",
      "3  2022-07-21  Ali Akbar Sakhi     Afghanistan   \n",
      "4  2021-07-25       Rick Allen  United Kingdom   \n",
      "\n",
      "                         Cause of death Mountain  \n",
      "0                               Unknown       K2  \n",
      "1                                  Fall       K2  \n",
      "2                                  Fall       K2  \n",
      "3  Unknown, suspected altitude sickness       K2  \n",
      "4                             Avalanche       K2  \n"
     ]
    }
   ],
   "source": [
    "print(data.head(5))"
   ]
  },
  {
   "cell_type": "code",
   "execution_count": 5,
   "id": "38151144",
   "metadata": {},
   "outputs": [
    {
     "name": "stdout",
     "output_type": "stream",
     "text": [
      "            Date                  Name Nationality  \\\n",
      "1073  2023-05-21       Ang Kami Sherpa       Nepal   \n",
      "1074  2023-05-25  Szilárd Suhajda [hu]     Hungary   \n",
      "1075  2023-05-25     Ranjit Kumar Shah       Nepal   \n",
      "1076  2023-05-26          Pieter Swart      Canada   \n",
      "1077  2023-06-03    Lhakpa Nuru Sherpa       Nepal   \n",
      "\n",
      "                                         Cause of death       Mountain  \n",
      "1073                                               Fall  Mount Everest  \n",
      "1074        Disappeared (reportedly suffered from HACE)  Mount Everest  \n",
      "1075                                        Disappeared  Mount Everest  \n",
      "1076                                  Respiratory Event  Mount Everest  \n",
      "1077  Suffered from HAPE, later died in hospital due...  Mount Everest  \n"
     ]
    }
   ],
   "source": [
    "print(data.tail(5))"
   ]
  },
  {
   "cell_type": "code",
   "execution_count": 6,
   "id": "25be138a",
   "metadata": {},
   "outputs": [
    {
     "name": "stdout",
     "output_type": "stream",
     "text": [
      "              Date          Name Nationality Cause of death       Mountain\n",
      "count         1078          1078        1076           1069           1078\n",
      "unique         676          1053          73            181             14\n",
      "top     2015-04-25  Ang Tshering       Nepal      Avalanche  Mount Everest\n",
      "freq            17             3         240            276            331\n"
     ]
    }
   ],
   "source": [
    "print(data.describe())"
   ]
  },
  {
   "cell_type": "code",
   "execution_count": 7,
   "id": "f9d4911c",
   "metadata": {},
   "outputs": [
    {
     "name": "stdout",
     "output_type": "stream",
     "text": [
      "       Date   Name  Nationality  Cause of death  Mountain\n",
      "0     False  False        False           False     False\n",
      "1     False  False        False           False     False\n",
      "2     False  False        False           False     False\n",
      "3     False  False        False           False     False\n",
      "4     False  False        False           False     False\n",
      "...     ...    ...          ...             ...       ...\n",
      "1073  False  False        False           False     False\n",
      "1074  False  False        False           False     False\n",
      "1075  False  False        False           False     False\n",
      "1076  False  False        False           False     False\n",
      "1077  False  False        False           False     False\n",
      "\n",
      "[1078 rows x 5 columns]\n"
     ]
    }
   ],
   "source": [
    "print(data.isnull())"
   ]
  },
  {
   "cell_type": "code",
   "execution_count": 8,
   "id": "e26dd658",
   "metadata": {},
   "outputs": [
    {
     "name": "stdout",
     "output_type": "stream",
     "text": [
      "Date              0\n",
      "Name              0\n",
      "Nationality       2\n",
      "Cause of death    9\n",
      "Mountain          0\n",
      "dtype: int64\n"
     ]
    }
   ],
   "source": [
    "print(data.isnull().sum())"
   ]
  },
  {
   "cell_type": "code",
   "execution_count": 10,
   "id": "037e9e4a",
   "metadata": {},
   "outputs": [
    {
     "name": "stdout",
     "output_type": "stream",
     "text": [
      "(1078, 5)\n"
     ]
    }
   ],
   "source": [
    "print(data.shape)"
   ]
  },
  {
   "cell_type": "code",
   "execution_count": 11,
   "id": "db83d63a",
   "metadata": {},
   "outputs": [
    {
     "name": "stdout",
     "output_type": "stream",
     "text": [
      "      Nationality                        Cause of death Mountain\n",
      "0        Pakistan                               Unknown       K2\n",
      "1       Australia                                  Fall       K2\n",
      "2          Canada                                  Fall       K2\n",
      "3     Afghanistan  Unknown, suspected altitude sickness       K2\n",
      "4  United Kingdom                             Avalanche       K2\n"
     ]
    }
   ],
   "source": [
    "print(data.drop(['Date','Name'],axis=1).head())"
   ]
  },
  {
   "cell_type": "code",
   "execution_count": 12,
   "id": "91ae09c7",
   "metadata": {},
   "outputs": [
    {
     "name": "stdout",
     "output_type": "stream",
     "text": [
      "         Date             Name     Nationality  \\\n",
      "0  2023-07-27  Muhammad Hassan        Pakistan   \n",
      "1  2022-07-22    Matthew Eakin       Australia   \n",
      "2  2022-07-22  Richard Cartier          Canada   \n",
      "4  2021-07-25       Rick Allen  United Kingdom   \n",
      "5  2021-02-05      Ali Sadpara        Pakistan   \n",
      "\n",
      "                                     Cause of death Mountain  \n",
      "0                                           Unknown       K2  \n",
      "1                                              Fall       K2  \n",
      "2                                              Fall       K2  \n",
      "4                                         Avalanche       K2  \n",
      "5  Froze to death in storm, remains found July 2021       K2  \n"
     ]
    }
   ],
   "source": [
    "print(data.drop([3],axis=0).head())"
   ]
  },
  {
   "cell_type": "code",
   "execution_count": 21,
   "id": "d0248b93",
   "metadata": {},
   "outputs": [
    {
     "name": "stdout",
     "output_type": "stream",
     "text": [
      "<bound method NDFrame._add_numeric_operations.<locals>.max of 0       2023-07-27\n",
      "1       2022-07-22\n",
      "2       2022-07-22\n",
      "3       2022-07-21\n",
      "4       2021-07-25\n",
      "           ...    \n",
      "1073    2023-05-21\n",
      "1074    2023-05-25\n",
      "1075    2023-05-25\n",
      "1076    2023-05-26\n",
      "1077    2023-06-03\n",
      "Name: Date, Length: 1078, dtype: object>\n"
     ]
    }
   ],
   "source": [
    "print(data['Date'].max)"
   ]
  },
  {
   "cell_type": "code",
   "execution_count": 6,
   "id": "e43b2d9a",
   "metadata": {},
   "outputs": [],
   "source": [
    "import matplotlib.pyplot as plt"
   ]
  },
  {
   "cell_type": "code",
   "execution_count": 1,
   "id": "cb60d785",
   "metadata": {},
   "outputs": [
    {
     "ename": "SyntaxError",
     "evalue": "positional argument follows keyword argument (372987618.py, line 1)",
     "output_type": "error",
     "traceback": [
      "\u001b[1;36m  Cell \u001b[1;32mIn[1], line 1\u001b[1;36m\u001b[0m\n\u001b[1;33m    plt.hist(data['Date'],bins=5,range(4.8,5))\u001b[0m\n\u001b[1;37m                                             ^\u001b[0m\n\u001b[1;31mSyntaxError\u001b[0m\u001b[1;31m:\u001b[0m positional argument follows keyword argument\n"
     ]
    }
   ],
   "source": [
    "plt.hist(data['Date'],bins=5,range(4.8,5))"
   ]
  },
  {
   "cell_type": "code",
   "execution_count": null,
   "id": "4d2ee2cf",
   "metadata": {},
   "outputs": [],
   "source": []
  }
 ],
 "metadata": {
  "kernelspec": {
   "display_name": "Python 3 (ipykernel)",
   "language": "python",
   "name": "python3"
  },
  "language_info": {
   "codemirror_mode": {
    "name": "ipython",
    "version": 3
   },
   "file_extension": ".py",
   "mimetype": "text/x-python",
   "name": "python",
   "nbconvert_exporter": "python",
   "pygments_lexer": "ipython3",
   "version": "3.11.5"
  }
 },
 "nbformat": 4,
 "nbformat_minor": 5
}
