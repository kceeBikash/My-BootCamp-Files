{
 "cells": [
  {
   "cell_type": "code",
   "execution_count": 1,
   "id": "32f34a4f",
   "metadata": {},
   "outputs": [
    {
     "name": "stdout",
     "output_type": "stream",
     "text": [
      "Requirement already satisfied: numpy in c:\\users\\sagarmatha\\anaconda3\\lib\\site-packages (1.24.3)Note: you may need to restart the kernel to use updated packages.\n",
      "\n"
     ]
    }
   ],
   "source": [
    "pip install numpy #PREFERRED INSTALLER PROGRAM"
   ]
  },
  {
   "cell_type": "code",
   "execution_count": 4,
   "id": "67538409",
   "metadata": {},
   "outputs": [],
   "source": [
    "import numpy as np\n"
   ]
  },
  {
   "cell_type": "code",
   "execution_count": 23,
   "id": "24495fb0",
   "metadata": {},
   "outputs": [
    {
     "name": "stdout",
     "output_type": "stream",
     "text": [
      "[1 2 3 4 5 6]\n"
     ]
    },
    {
     "data": {
      "text/plain": [
       "numpy.ndarray"
      ]
     },
     "execution_count": 23,
     "metadata": {},
     "output_type": "execute_result"
    }
   ],
   "source": [
    "np1 = np.array([1,2,3,4,5,6])\n",
    "print(np1)\n",
    "type(np1)\n"
   ]
  },
  {
   "cell_type": "code",
   "execution_count": 4,
   "id": "98a5771a",
   "metadata": {},
   "outputs": [
    {
     "name": "stdout",
     "output_type": "stream",
     "text": [
      "[[1 2 3]\n",
      " [2 3 4]\n",
      " [3 5 6]]\n"
     ]
    }
   ],
   "source": [
    "np1=np.array([[1,2,3],[2,3,4],[3,5,6]])\n",
    "print(np1)"
   ]
  },
  {
   "cell_type": "code",
   "execution_count": 6,
   "id": "1d131385",
   "metadata": {},
   "outputs": [
    {
     "name": "stdout",
     "output_type": "stream",
     "text": [
      "[[1 2 3]\n",
      " [3 4 5]]\n"
     ]
    }
   ],
   "source": [
    "np1=np.array([[1,2,3],[3,4,5]])\n",
    "print(np1)"
   ]
  },
  {
   "cell_type": "code",
   "execution_count": 7,
   "id": "813f59e8",
   "metadata": {},
   "outputs": [
    {
     "data": {
      "text/plain": [
       "array([0, 1, 2, 3])"
      ]
     },
     "execution_count": 7,
     "metadata": {},
     "output_type": "execute_result"
    }
   ],
   "source": [
    "np.arange(4)"
   ]
  },
  {
   "cell_type": "code",
   "execution_count": 22,
   "id": "a9d399d1",
   "metadata": {},
   "outputs": [
    {
     "data": {
      "text/plain": [
       "builtin_function_or_method"
      ]
     },
     "execution_count": 22,
     "metadata": {},
     "output_type": "execute_result"
    }
   ],
   "source": [
    "np.arange(3, 19, 3)\n",
    "type(np.arange)"
   ]
  },
  {
   "cell_type": "code",
   "execution_count": 11,
   "id": "8af09d6f",
   "metadata": {},
   "outputs": [
    {
     "data": {
      "text/plain": [
       "array([1., 1., 1.])"
      ]
     },
     "execution_count": 11,
     "metadata": {},
     "output_type": "execute_result"
    }
   ],
   "source": [
    "np.ones(3)"
   ]
  },
  {
   "cell_type": "code",
   "execution_count": 12,
   "id": "8fd8f731",
   "metadata": {},
   "outputs": [
    {
     "data": {
      "text/plain": [
       "array([0, 1, 2, 3, 4, 5, 6, 7, 8, 9])"
      ]
     },
     "execution_count": 12,
     "metadata": {},
     "output_type": "execute_result"
    }
   ],
   "source": [
    "np.arange(10)"
   ]
  },
  {
   "cell_type": "code",
   "execution_count": 13,
   "id": "9fef5a69",
   "metadata": {},
   "outputs": [
    {
     "data": {
      "text/plain": [
       "array([2, 4, 6, 8])"
      ]
     },
     "execution_count": 13,
     "metadata": {},
     "output_type": "execute_result"
    }
   ],
   "source": [
    "np.arange(2,10,2)"
   ]
  },
  {
   "cell_type": "code",
   "execution_count": 21,
   "id": "64f64c35",
   "metadata": {},
   "outputs": [
    {
     "data": {
      "text/plain": [
       "array([1., 1., 1.])"
      ]
     },
     "execution_count": 21,
     "metadata": {},
     "output_type": "execute_result"
    }
   ],
   "source": [
    "np.empty(3)"
   ]
  },
  {
   "cell_type": "code",
   "execution_count": 24,
   "id": "019f98bb",
   "metadata": {},
   "outputs": [
    {
     "data": {
      "text/plain": [
       "array([3, 4, 6, 8, 9])"
      ]
     },
     "execution_count": 24,
     "metadata": {},
     "output_type": "execute_result"
    }
   ],
   "source": [
    "np1=np.array([8,3,4,9,6])\n",
    "np.sort(np1)\n",
    "\n",
    "              "
   ]
  },
  {
   "cell_type": "code",
   "execution_count": 26,
   "id": "237f2f1b",
   "metadata": {},
   "outputs": [
    {
     "ename": "TypeError",
     "evalue": "only integer scalar arrays can be converted to a scalar index",
     "output_type": "error",
     "traceback": [
      "\u001b[1;31m---------------------------------------------------------------------------\u001b[0m",
      "\u001b[1;31mTypeError\u001b[0m                                 Traceback (most recent call last)",
      "Cell \u001b[1;32mIn[26], line 3\u001b[0m\n\u001b[0;32m      1\u001b[0m np1\u001b[38;5;241m=\u001b[39mnp\u001b[38;5;241m.\u001b[39marray([\u001b[38;5;241m1\u001b[39m,\u001b[38;5;241m4\u001b[39m,\u001b[38;5;241m2\u001b[39m])\n\u001b[0;32m      2\u001b[0m np2\u001b[38;5;241m=\u001b[39mnp\u001b[38;5;241m.\u001b[39marray([\u001b[38;5;241m3\u001b[39m,\u001b[38;5;241m1\u001b[39m,\u001b[38;5;241m6\u001b[39m])\n\u001b[1;32m----> 3\u001b[0m np\u001b[38;5;241m.\u001b[39mconcatenate(np1, np2)\n",
      "File \u001b[1;32m<__array_function__ internals>:200\u001b[0m, in \u001b[0;36mconcatenate\u001b[1;34m(*args, **kwargs)\u001b[0m\n",
      "\u001b[1;31mTypeError\u001b[0m: only integer scalar arrays can be converted to a scalar index"
     ]
    }
   ],
   "source": [
    "np1=np.array([1,4,2])   #solve this issue as hometask\n",
    "np2=np.array([3,1,6])\n",
    "np.concatenate(np1, np2)"
   ]
  },
  {
   "cell_type": "code",
   "execution_count": 29,
   "id": "c2858086",
   "metadata": {},
   "outputs": [
    {
     "data": {
      "text/plain": [
       "array([[1, 2, 3],\n",
       "       [3, 4, 5],\n",
       "       [5, 6, 5]])"
      ]
     },
     "execution_count": 29,
     "metadata": {},
     "output_type": "execute_result"
    }
   ],
   "source": [
    "np1=np.array([[1,2,3],[3,4,5]])\n",
    "np2=np.array([[5,6,5]])\n",
    "np.concatenate((np1, np2), axis=0)    #axis divides one d and 2 d array\n"
   ]
  },
  {
   "cell_type": "code",
   "execution_count": 11,
   "id": "1147e629",
   "metadata": {},
   "outputs": [
    {
     "name": "stdout",
     "output_type": "stream",
     "text": [
      "[[[1 2 3]\n",
      "  [2 3 4]\n",
      "  [5 6 8]\n",
      "  [3 7 7]]]\n"
     ]
    }
   ],
   "source": [
    "# shape and size of an array\n",
    "np1=np.array([[[1,2,3],[2,3,4],[5,6,8],[3,7,7]]])\n",
    "print(np1)\n",
    "arr1=arr2.reshape(2,2)\n"
   ]
  },
  {
   "cell_type": "code",
   "execution_count": 7,
   "id": "a280ead5",
   "metadata": {},
   "outputs": [
    {
     "name": "stdout",
     "output_type": "stream",
     "text": [
      "[2 5 3 6]\n"
     ]
    }
   ],
   "source": [
    "#how to save and load numpy objects\n",
    "arr1=np.array([2,5,3,6])                            #create an array\n",
    "np.save('filenew', arr1)                            #create a file and save array in this fiie\n",
    "arr2=np.load('filenew.npy')\n",
    "print(arr2)                                         #load the array from this file"
   ]
  },
  {
   "cell_type": "code",
   "execution_count": 3,
   "id": "8ac0dac7",
   "metadata": {},
   "outputs": [],
   "source": [
    "import pandas as pd\n",
    "import numpy as np\n"
   ]
  },
  {
   "cell_type": "code",
   "execution_count": 7,
   "id": "312773d2",
   "metadata": {},
   "outputs": [
    {
     "name": "stdout",
     "output_type": "stream",
     "text": [
      "   0  1  2\n",
      "0  1  4  3\n",
      "1  5  3  5\n",
      "2  5  3  6\n",
      "3  6  3  2\n",
      "4  5  3  6\n",
      "5  6  3  6\n"
     ]
    }
   ],
   "source": [
    "arr1=np.array([[1,4,3],[5,3,5],[5,3,6],[6,3,2],[5,3,6],[6,3,6]])\n",
    "df=pd.DataFrame(arr1)\n",
    "df.to_csv('pd.csv')          # COMMA-SEPARATED VALUES\n",
    "data=pd.read_csv('pd.csv')\n",
    "print(df)"
   ]
  },
  {
   "cell_type": "code",
   "execution_count": null,
   "id": "8801b93d",
   "metadata": {},
   "outputs": [],
   "source": [
    "pd_df=pd_arr.to_csv"
   ]
  },
  {
   "cell_type": "code",
   "execution_count": 5,
   "id": "87c659a7",
   "metadata": {},
   "outputs": [
    {
     "name": "stdout",
     "output_type": "stream",
     "text": [
      "[[[2 4 3]\n",
      "  [3 6 4]]\n",
      "\n",
      " [[1 6 4]\n",
      "  [9 5 4]]\n",
      "\n",
      " [[7 4 2]\n",
      "  [2 1 4]]]\n"
     ]
    }
   ],
   "source": [
    "import numpy as np\n",
    "arr1=np.array([[[2,4,3],[3,6,4]],[[1,6,4],[9,5,4]],[[7,4,2],[2,1,4]]])\n",
    "print(arr1)"
   ]
  },
  {
   "cell_type": "code",
   "execution_count": 3,
   "id": "5c8af0c0",
   "metadata": {},
   "outputs": [
    {
     "name": "stdout",
     "output_type": "stream",
     "text": [
      "[0 1 2 3 4 5 6 7 8]\n"
     ]
    }
   ],
   "source": [
    "import numpy as np\n",
    "a=np.arange(9)\n",
    "print(a)\n"
   ]
  },
  {
   "cell_type": "code",
   "execution_count": 6,
   "id": "a457da58",
   "metadata": {},
   "outputs": [
    {
     "name": "stdout",
     "output_type": "stream",
     "text": [
      "[[0 1 2]\n",
      " [3 4 5]\n",
      " [6 7 8]]\n"
     ]
    }
   ],
   "source": [
    "b=a.reshape(3,3)\n",
    "print(b)"
   ]
  },
  {
   "cell_type": "code",
   "execution_count": 17,
   "id": "e8476137",
   "metadata": {},
   "outputs": [
    {
     "data": {
      "text/plain": [
       "(2, 7)"
      ]
     },
     "execution_count": 17,
     "metadata": {},
     "output_type": "execute_result"
    }
   ],
   "source": [
    "arr=np.array([[2,4,5,6,7,8,9],[5,3,2,5,3,7,9]])\n",
    "arr.shape"
   ]
  },
  {
   "cell_type": "code",
   "execution_count": 2,
   "id": "8c5b7fe5",
   "metadata": {},
   "outputs": [],
   "source": [
    "import numpy as np"
   ]
  },
  {
   "cell_type": "code",
   "execution_count": 3,
   "id": "2ebb34eb",
   "metadata": {},
   "outputs": [
    {
     "data": {
      "text/plain": [
       "array([2, 4, 6, 1, 2, 3])"
      ]
     },
     "execution_count": 3,
     "metadata": {},
     "output_type": "execute_result"
    }
   ],
   "source": [
    "arr1=np.array([2,4,6])   # CONCATENATION OF TWO ARRAYS\n",
    "arr2=np.array([1,2,3])\n",
    "np.concatenate((arr1,arr2))"
   ]
  },
  {
   "cell_type": "code",
   "execution_count": null,
   "id": "0291bdff",
   "metadata": {},
   "outputs": [],
   "source": []
  },
  {
   "cell_type": "code",
   "execution_count": null,
   "id": "0c712795",
   "metadata": {},
   "outputs": [],
   "source": [
    "3.1## print first  file rows of dataset\n",
    " 3.2 # print first n rows of dataset\n",
    "    # print last n rows of dataset\n",
    "3.3 # describe your dataset\n",
    "3.5# find number of columns in every row with null values\n",
    "3.6# print no of rows and columns type of data and number of missing value  \n",
    "use  .info() and .describe()"
   ]
  }
 ],
 "metadata": {
  "kernelspec": {
   "display_name": "Python 3 (ipykernel)",
   "language": "python",
   "name": "python3"
  },
  "language_info": {
   "codemirror_mode": {
    "name": "ipython",
    "version": 3
   },
   "file_extension": ".py",
   "mimetype": "text/x-python",
   "name": "python",
   "nbconvert_exporter": "python",
   "pygments_lexer": "ipython3",
   "version": "3.11.5"
  }
 },
 "nbformat": 4,
 "nbformat_minor": 5
}
