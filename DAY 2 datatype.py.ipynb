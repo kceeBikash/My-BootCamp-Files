{
 "cells": [
  {
   "cell_type": "code",
   "execution_count": 2,
   "id": "f991afda",
   "metadata": {},
   "outputs": [
    {
     "name": "stdout",
     "output_type": "stream",
     "text": [
      "\"I'm here in kathmandu for bootcamptin\n"
     ]
    }
   ],
   "source": [
    "introduction= \"\"\"\"I'm here in kathmandu for bootcamptin\"\"\"#long sequence of string into triple quatotion\n",
    "print(introduction)"
   ]
  },
  {
   "cell_type": "code",
   "execution_count": 3,
   "id": "b3ec52d8",
   "metadata": {},
   "outputs": [
    {
     "ename": "NameError",
     "evalue": "name 'num' is not defined",
     "output_type": "error",
     "traceback": [
      "\u001b[1;31m---------------------------------------------------------------------------\u001b[0m",
      "\u001b[1;31mNameError\u001b[0m                                 Traceback (most recent call last)",
      "Cell \u001b[1;32mIn[3], line 2\u001b[0m\n\u001b[0;32m      1\u001b[0m Num\u001b[38;5;241m=\u001b[39m\u001b[38;5;241m2.5\u001b[39m\n\u001b[1;32m----> 2\u001b[0m intNum\u001b[38;5;241m=\u001b[39m\u001b[38;5;28mint\u001b[39m(num)\n",
      "\u001b[1;31mNameError\u001b[0m: name 'num' is not defined"
     ]
    }
   ],
   "source": [
    "Num=2.5\n",
    "intNum=int(num)\n"
   ]
  },
  {
   "cell_type": "code",
   "execution_count": 4,
   "id": "836bddff",
   "metadata": {},
   "outputs": [
    {
     "name": "stdout",
     "output_type": "stream",
     "text": [
      "2.0\n"
     ]
    }
   ],
   "source": [
    "num=2\n",
    "floatnum=float(num)\n",
    "print(floatnum)"
   ]
  },
  {
   "cell_type": "code",
   "execution_count": 6,
   "id": "ef749f52",
   "metadata": {},
   "outputs": [
    {
     "name": "stdout",
     "output_type": "stream",
     "text": [
      "3\n"
     ]
    }
   ],
   "source": [
    "Num=3.54\n",
    "intNum=int(Num)\n",
    "print(intNum)"
   ]
  },
  {
   "cell_type": "code",
   "execution_count": 8,
   "id": "1b0959a1",
   "metadata": {},
   "outputs": [
    {
     "ename": "SyntaxError",
     "evalue": "invalid decimal literal (995723923.py, line 1)",
     "output_type": "error",
     "traceback": [
      "\u001b[1;36m  Cell \u001b[1;32mIn[8], line 1\u001b[1;36m\u001b[0m\n\u001b[1;33m    num=2+5i\u001b[0m\n\u001b[1;37m          ^\u001b[0m\n\u001b[1;31mSyntaxError\u001b[0m\u001b[1;31m:\u001b[0m invalid decimal literal\n"
     ]
    }
   ],
   "source": [
    "num=2+5i\n"
   ]
  },
  {
   "cell_type": "code",
   "execution_count": 16,
   "id": "d02205b1",
   "metadata": {},
   "outputs": [
    {
     "ename": "SyntaxError",
     "evalue": "invalid syntax (3325467923.py, line 1)",
     "output_type": "error",
     "traceback": [
      "\u001b[1;36m  Cell \u001b[1;32mIn[16], line 1\u001b[1;36m\u001b[0m\n\u001b[1;33m    company=\"cordoroidhub\":\u001b[0m\n\u001b[1;37m                          ^\u001b[0m\n\u001b[1;31mSyntaxError\u001b[0m\u001b[1;31m:\u001b[0m invalid syntax\n"
     ]
    }
   ],
   "source": [
    "company=\"cordoroidhub\":\n",
    "for var in company:\n",
    "    print(var)"
   ]
  },
  {
   "cell_type": "code",
   "execution_count": 17,
   "id": "d7c1eba2",
   "metadata": {},
   "outputs": [
    {
     "data": {
      "text/plain": [
       "'a'"
      ]
     },
     "execution_count": 17,
     "metadata": {},
     "output_type": "execute_result"
    }
   ],
   "source": [
    "var='data'\n",
    "length=len(var)\n",
    "var[length-1]"
   ]
  },
  {
   "cell_type": "code",
   "execution_count": 13,
   "id": "666b16ed",
   "metadata": {},
   "outputs": [
    {
     "data": {
      "text/plain": [
       "'puters'"
      ]
     },
     "execution_count": 13,
     "metadata": {},
     "output_type": "execute_result"
    }
   ],
   "source": [
    "var=\"computerscience\"\n",
    "length=len(var)\n",
    "var[3:9]"
   ]
  },
  {
   "cell_type": "code",
   "execution_count": 15,
   "id": "bc782eea",
   "metadata": {},
   "outputs": [
    {
     "data": {
      "text/plain": [
       "'b'"
      ]
     },
     "execution_count": 15,
     "metadata": {},
     "output_type": "execute_result"
    }
   ],
   "source": [
    "var=\"bikash\"\n",
    "length=len(var)\n",
    "var[ : 1 : ]"
   ]
  },
  {
   "cell_type": "code",
   "execution_count": null,
   "id": "4484488b",
   "metadata": {},
   "outputs": [],
   "source": [
    "i=1\n",
    "while i<6:\n",
    "    print(i)\n",
    "    i += 1\n",
    "\n",
    "    \n"
   ]
  },
  {
   "cell_type": "code",
   "execution_count": null,
   "id": "d5827aa5",
   "metadata": {},
   "outputs": [],
   "source": [
    "fruits = [\"apple\",\"banana\",\"orange\"]\n",
    "for in x fruits\n",
    "print(x)\n"
   ]
  },
  {
   "cell_type": "code",
   "execution_count": null,
   "id": "434ff443",
   "metadata": {},
   "outputs": [],
   "source": []
  }
 ],
 "metadata": {
  "kernelspec": {
   "display_name": "Python 3 (ipykernel)",
   "language": "python",
   "name": "python3"
  },
  "language_info": {
   "codemirror_mode": {
    "name": "ipython",
    "version": 3
   },
   "file_extension": ".py",
   "mimetype": "text/x-python",
   "name": "python",
   "nbconvert_exporter": "python",
   "pygments_lexer": "ipython3",
   "version": "3.11.5"
  }
 },
 "nbformat": 4,
 "nbformat_minor": 5
}
